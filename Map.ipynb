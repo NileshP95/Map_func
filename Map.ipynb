{
 "cells": [
  {
   "cell_type": "markdown",
   "id": "a9fad85a",
   "metadata": {},
   "source": [
    "# Write a Python program to triple all numbers of a given list of integers. Use Python map.\n",
    "\n"
   ]
  },
  {
   "cell_type": "code",
   "execution_count": 4,
   "id": "74eefd3b",
   "metadata": {},
   "outputs": [],
   "source": [
    "sample_list =  [1, 2, 3, 4, 5, 6, 7]\n",
    "\n",
    "def triple(x):\n",
    "    return(x*3)"
   ]
  },
  {
   "cell_type": "code",
   "execution_count": 5,
   "id": "f52db444",
   "metadata": {},
   "outputs": [
    {
     "data": {
      "text/plain": [
       "[3, 6, 9, 12, 15, 18, 21]"
      ]
     },
     "execution_count": 5,
     "metadata": {},
     "output_type": "execute_result"
    }
   ],
   "source": [
    "list(map(triple,sample_list))"
   ]
  },
  {
   "cell_type": "code",
   "execution_count": 6,
   "id": "8c9f7bd2",
   "metadata": {},
   "outputs": [
    {
     "data": {
      "text/plain": [
       "[6, 12, 18]"
      ]
     },
     "execution_count": 6,
     "metadata": {},
     "output_type": "execute_result"
    }
   ],
   "source": [
    "#more example\n",
    "list(map(triple,[2,4,6]))"
   ]
  },
  {
   "cell_type": "code",
   "execution_count": null,
   "id": "ddb003a8",
   "metadata": {},
   "outputs": [],
   "source": []
  }
 ],
 "metadata": {
  "kernelspec": {
   "display_name": "Python 3 (ipykernel)",
   "language": "python",
   "name": "python3"
  },
  "language_info": {
   "codemirror_mode": {
    "name": "ipython",
    "version": 3
   },
   "file_extension": ".py",
   "mimetype": "text/x-python",
   "name": "python",
   "nbconvert_exporter": "python",
   "pygments_lexer": "ipython3",
   "version": "3.8.10"
  }
 },
 "nbformat": 4,
 "nbformat_minor": 5
}
